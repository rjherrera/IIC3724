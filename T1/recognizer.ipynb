{
 "cells": [
  {
   "cell_type": "code",
   "execution_count": 1,
   "metadata": {},
   "outputs": [],
   "source": [
    "import numpy as np\n",
    "import matplotlib.pyplot as plt\n",
    "import os"
   ]
  },
  {
   "cell_type": "code",
   "execution_count": 2,
   "metadata": {},
   "outputs": [],
   "source": [
    "def center_of_mass(image):\n",
    "    x_sum = np.sum([np.sum(np.flatnonzero(x)) for x in image])\n",
    "    y_sum = np.sum([np.sum(np.flatnonzero(x)) for x in np.rot90(image)])\n",
    "    mass = np.sum(image)\n",
    "    return (x_sum / mass, y_sum / mass)"
   ]
  },
  {
   "cell_type": "code",
   "execution_count": 3,
   "metadata": {},
   "outputs": [],
   "source": [
    "def get_boundaries(image):\n",
    "    left = np.min([np.min(np.flatnonzero(x), initial=10e10) for x in image])\n",
    "    top = np.min([np.min(np.flatnonzero(x), initial=10e10) for x in np.rot90(image)])\n",
    "    right = np.max([np.max(np.flatnonzero(x), initial=-10e10) for x in image])\n",
    "    bottom = np.max([np.max(np.flatnonzero(x), initial=-10e10) for x in np.rot90(image)])\n",
    "    return top, right, bottom, left\n",
    "\n",
    "def get_corners(boundaries):\n",
    "    top, right, bottom, left = boundaries\n",
    "    return (left, top), (right, top), (left, bottom), (right, bottom)"
   ]
  },
  {
   "cell_type": "code",
   "execution_count": 4,
   "metadata": {},
   "outputs": [],
   "source": [
    "def get_sizes(boundaries):\n",
    "    top, right, bottom, left = boundaries\n",
    "    return right - left, bottom - top"
   ]
  },
  {
   "cell_type": "code",
   "execution_count": 5,
   "metadata": {},
   "outputs": [],
   "source": [
    "def get_surrounding_region(point, expansion=1):\n",
    "    x, y = int(point[0]), int(point[1])\n",
    "    region = []\n",
    "    for i in range(x - expansion, x + expansion + 1):\n",
    "        for j in range(y - expansion, y + expansion + 1):\n",
    "            region.append((i, j))\n",
    "    return region"
   ]
  },
  {
   "cell_type": "code",
   "execution_count": 6,
   "metadata": {},
   "outputs": [],
   "source": [
    "def image_to_vector(image, label):\n",
    "    # get center of mass\n",
    "    center = center_of_mass(image)\n",
    "    # get center of mass surroindings (9x9 square)\n",
    "    region = np.array(get_surrounding_region(center))\n",
    "    values = image[region[:,1], region[:,0]]\n",
    "    # get 'painted' proportion\n",
    "    boundaries = get_boundaries(image)\n",
    "    size = get_sizes(boundaries)\n",
    "    mass = np.sum(image)\n",
    "    proportion = mass / (size[0] * size[1])\n",
    "    return [proportion, *values, label]"
   ]
  },
  {
   "cell_type": "markdown",
   "metadata": {},
   "source": [
    "## Ejemplo\n",
    "\n",
    "Se incluye a modo de ejemplo la ejecución de las operaciones sobre una imagen, pero que después será hecho sobre todas las imagenes, incluida la que se quiera _evaluar_. Primero se obtiene el centro y los bordes _reales_ de la imagen, para luego proceder a mostrar la imagen, junto con el centro de masa y las esquinas de la imagen. Se calcula también el vector que se usará para una simple regresión lineal."
   ]
  },
  {
   "cell_type": "code",
   "execution_count": 7,
   "metadata": {},
   "outputs": [
    {
     "data": {
      "image/png": "[encoded data removed]",
      "text/plain": [
       "<Figure size 432x288 with 1 Axes>"
      ]
     },
     "metadata": {
      "needs_background": "light"
     },
     "output_type": "display_data"
    }
   ],
   "source": [
    "X = np.load('dataset/c_100.npy')\n",
    "\n",
    "center = center_of_mass(X)\n",
    "boundaries = get_boundaries(X)\n",
    "corners = np.array(get_corners(boundaries))\n",
    "vector = image_to_vector(image=X, label=0)\n",
    "\n",
    "plt.imshow(X, cmap='Greys',  interpolation='nearest')\n",
    "plt.scatter(*center, color='cyan', marker='+', s=10)\n",
    "plt.scatter(*zip(*corners), color='red', s=1)\n",
    "plt.show()"
   ]
  },
  {
   "cell_type": "markdown",
   "metadata": {},
   "source": [
    "## Entrenamiento\n",
    "\n",
    "En esta fase se utilizaran todas las funciones definidas anteriormente pero esta vez para, utilizando el dataset, deducir los parámetros adecuados para cada uno de los elementos del vector."
   ]
  },
  {
   "cell_type": "code",
   "execution_count": 8,
   "metadata": {},
   "outputs": [],
   "source": [
    "train_size = 400\n",
    "c_names = [i for i in os.listdir('dataset') if i.startswith('c')]\n",
    "s_names = [i for i in os.listdir('dataset') if i.startswith('s')]\n",
    "\n",
    "np.random.shuffle(c_names)\n",
    "np.random.shuffle(s_names)\n",
    "\n",
    "train_c_names = c_names[:train_size]\n",
    "train_s_names = s_names[:train_size]\n",
    "\n",
    "test_c_names = c_names[train_size:]\n",
    "test_s_names = s_names[train_size:]"
   ]
  },
  {
   "cell_type": "code",
   "execution_count": 9,
   "metadata": {},
   "outputs": [],
   "source": [
    "c_train_images = []\n",
    "for name in train_c_names:\n",
    "    c_train_images.append(np.load(f'dataset/{name}'))\n",
    "    \n",
    "s_train_images = []\n",
    "for name in train_s_names:\n",
    "    s_train_images.append(np.load(f'dataset/{name}'))"
   ]
  },
  {
   "cell_type": "code",
   "execution_count": 10,
   "metadata": {},
   "outputs": [],
   "source": [
    "c_train_vectors = [image_to_vector(img, 0) for img in c_train_images]"
   ]
  },
  {
   "cell_type": "code",
   "execution_count": 11,
   "metadata": {},
   "outputs": [],
   "source": [
    "s_train_vectors = [image_to_vector(img, 1) for img in s_train_images]"
   ]
  },
  {
   "cell_type": "code",
   "execution_count": 12,
   "metadata": {},
   "outputs": [],
   "source": [
    "data = np.array(c_train_vectors + s_train_vectors)\n",
    "np.random.shuffle(data)\n",
    "\n",
    "X = data[:,:-1]\n",
    "y = data[:,-1]"
   ]
  },
  {
   "cell_type": "code",
   "execution_count": 13,
   "metadata": {},
   "outputs": [],
   "source": [
    "learned_parameters = np.linalg.lstsq(X, y, rcond=None)[0]"
   ]
  },
  {
   "cell_type": "code",
   "execution_count": 14,
   "metadata": {},
   "outputs": [
    {
     "data": {
      "text/plain": [
       "array([1.52370782e-17, 1.11111111e-01, 1.11111111e-01, 1.11111111e-01,\n",
       "       1.11111111e-01, 1.11111111e-01, 1.11111111e-01, 1.11111111e-01,\n",
       "       1.11111111e-01, 1.11111111e-01])"
      ]
     },
     "execution_count": 14,
     "metadata": {},
     "output_type": "execute_result"
    }
   ],
   "source": [
    "learned_parameters"
   ]
  },
  {
   "cell_type": "markdown",
   "metadata": {},
   "source": [
    "Como se aprecia, los parámetros muestran que lo único relevante es el centro de masa de la imagen, de hecho, que cada uno de los nueve puntos es igualmente relevante. Y que la proporción de masa sobre el tamaño del marco no es importante (el primer parámetro).\n",
    "\n",
    "Para no perder la generalidad del procedimiento, se consideraran todos los parámetros aprendidos para evaluar ejemplares, sin embargo se podría simplificar la regla a únicamente extraer el centro de masa y obtener si es un 1 o un 0."
   ]
  },
  {
   "cell_type": "markdown",
   "metadata": {},
   "source": [
    "## Testing\n",
    "\n",
    "Para esta sección se utiliza la fracción del dataset que no se utilizó para \"entrenar\" y se espera que el desempeño sea de un 100%, por lo simple del experimento. Para esto, se realiza la conversión de cada imagen a _evaluar_ a vector, de la misma manera que antes, y se realiza el producto punto con los parámetros aprendidos."
   ]
  },
  {
   "cell_type": "code",
   "execution_count": 15,
   "metadata": {},
   "outputs": [],
   "source": [
    "c_test_images = []\n",
    "for name in test_c_names:\n",
    "    c_test_images.append(np.load(f'dataset/{name}'))\n",
    "    \n",
    "s_test_images = []\n",
    "for name in test_s_names:\n",
    "    s_test_images.append(np.load(f'dataset/{name}'))"
   ]
  },
  {
   "cell_type": "code",
   "execution_count": 16,
   "metadata": {},
   "outputs": [],
   "source": [
    "c_test_vectors = [image_to_vector(img, None) for img in c_test_images]\n",
    "s_test_vectors = [image_to_vector(img, None) for img in s_test_images]"
   ]
  },
  {
   "cell_type": "code",
   "execution_count": 17,
   "metadata": {},
   "outputs": [
    {
     "data": {
      "text/plain": [
       "(True, True)"
      ]
     },
     "execution_count": 17,
     "metadata": {},
     "output_type": "execute_result"
    }
   ],
   "source": [
    "predicted_c = np.dot(np.array(c_test_vectors)[:,:-1], learned_parameters)\n",
    "predicted_s = np.dot(np.array(s_test_vectors)[:,:-1], learned_parameters)\n",
    "results_c = np.around(predicted_c.astype(int))\n",
    "results_s = np.around(predicted_s.astype(int))\n",
    "all(np.array(results_c) == np.zeros(len(results_c))), all(np.array(results_s) == np.ones(len(results_s)))"
   ]
  },
  {
   "cell_type": "markdown",
   "metadata": {},
   "source": [
    "Como se observa, todos los ejemplares, al procesarlos y calcularles el tipo, entregan 0 para las 'c' y 1 para las 's'."
   ]
  },
  {
   "cell_type": "code",
   "execution_count": 18,
   "metadata": {},
   "outputs": [],
   "source": [
    "def reconocedorSC(X):\n",
    "    vector = image_to_vector(X, None)\n",
    "    return int(round(np.dot(vector[:-1], learned_parameters)))"
   ]
  },
  {
   "cell_type": "code",
   "execution_count": 19,
   "metadata": {},
   "outputs": [
    {
     "data": {
      "text/plain": [
       "1"
      ]
     },
     "execution_count": 19,
     "metadata": {},
     "output_type": "execute_result"
    }
   ],
   "source": [
    "reconocedorSC(np.load('S01.npy'))"
   ]
  }
 ],
 "metadata": {
  "kernelspec": {
   "display_name": "Python 3",
   "language": "python",
   "name": "python3"
  },
  "language_info": {
   "codemirror_mode": {
    "name": "ipython",
    "version": 3
   },
   "file_extension": ".py",
   "mimetype": "text/x-python",
   "name": "python",
   "nbconvert_exporter": "python",
   "pygments_lexer": "ipython3",
   "version": "3.7.2"
  }
 },
 "nbformat": 4,
 "nbformat_minor": 2
}
