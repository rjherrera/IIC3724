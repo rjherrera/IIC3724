{
 "cells": [
  {
   "cell_type": "code",
   "execution_count": 157,
   "metadata": {},
   "outputs": [],
   "source": [
    "from imageio import imread\n",
    "import matplotlib.pyplot as plt\n",
    "import numpy as np\n",
    "import os\n",
    "from collections import defaultdict"
   ]
  },
  {
   "cell_type": "code",
   "execution_count": 136,
   "metadata": {},
   "outputs": [],
   "source": [
    "img = imread('images/s_regular_times.png', pilmode='L')"
   ]
  },
  {
   "cell_type": "code",
   "execution_count": 137,
   "metadata": {},
   "outputs": [],
   "source": [
    "binarized = 1.0 * (img < 128)"
   ]
  },
  {
   "cell_type": "code",
   "execution_count": 146,
   "metadata": {},
   "outputs": [
    {
     "data": {
      "text/plain": [
       "<matplotlib.image.AxesImage at 0x12e598b70>"
      ]
     },
     "execution_count": 146,
     "metadata": {},
     "output_type": "execute_result"
    },
    {
     "data": {
      "image/png": "[encoded data removed]",
      "text/plain": [
       "<Figure size 432x288 with 1 Axes>"
      ]
     },
     "metadata": {
      "needs_background": "light"
     },
     "output_type": "display_data"
    }
   ],
   "source": [
    "plt.imshow(binarized, cmap='Greys', interpolation='nearest')"
   ]
  },
  {
   "cell_type": "code",
   "execution_count": 196,
   "metadata": {},
   "outputs": [],
   "source": [
    "def random_padding(fixed_size, expanding_size, factor_limits, axis=0):\n",
    "    factor = np.random.uniform(*factor_limits)\n",
    "    amount = int(expanding_size * factor)\n",
    "    if axis == 0:\n",
    "        return np.zeros((fixed_size, amount))\n",
    "    return np.zeros((amount, fixed_size))\n",
    "\n",
    "def pad_image(image, pattern=[0, 0, 0, 0]):\n",
    "    top, right, bottom, left = pattern\n",
    "    sizes = (0, 0), (0, 1), (1, 3)\n",
    "    top_padding = random_padding(fixed_size=image.shape[1], expanding_size=image.shape[0], factor_limits=sizes[top], axis=1)\n",
    "    image = np.vstack((top_padding, image))\n",
    "    right_padding = random_padding(fixed_size=image.shape[0], expanding_size=image.shape[1], factor_limits=sizes[right])\n",
    "    image = np.hstack((image, right_padding))\n",
    "    bottom_padding = random_padding(fixed_size=image.shape[1], expanding_size=image.shape[0], factor_limits=sizes[bottom], axis=1)\n",
    "    image = np.vstack((image, bottom_padding))\n",
    "    left_padding = random_padding(fixed_size=image.shape[0], expanding_size=image.shape[1], factor_limits=sizes[left])\n",
    "    return np.hstack((left_padding, image))"
   ]
  },
  {
   "cell_type": "code",
   "execution_count": 139,
   "metadata": {},
   "outputs": [
    {
     "data": {
      "image/png": "[encoded data removed]",
      "text/plain": [
       "<Figure size 432x288 with 1 Axes>"
      ]
     },
     "metadata": {
      "needs_background": "light"
     },
     "output_type": "display_data"
    }
   ],
   "source": [
    "padded = pad_image(binarized, pattern=[1,1,1,1])\n",
    "plt.imshow(padded, cmap='Greys', interpolation='nearest')\n",
    "plt.show()"
   ]
  },
  {
   "cell_type": "code",
   "execution_count": 197,
   "metadata": {},
   "outputs": [],
   "source": [
    "def generate_images(unpadded, amount_per_pattern=3):\n",
    "    images = [unpadded]\n",
    "    for i in range(3):\n",
    "        for j in range(3):\n",
    "            for k in range(3):\n",
    "                for l in range(3):\n",
    "                    for _ in range(amount_per_pattern):\n",
    "                        img = pad_image(unpadded, pattern=[i, j, k, l])\n",
    "                        images.append(img)\n",
    "    return images"
   ]
  },
  {
   "cell_type": "code",
   "execution_count": 198,
   "metadata": {},
   "outputs": [],
   "source": [
    "letter_names = os.listdir('images')\n",
    "binarized_images = defaultdict(list)\n",
    "for name in letter_names:\n",
    "    img = imread(f'images/{name}', pilmode='L')\n",
    "    binarized = 1.0 * (img < 128)\n",
    "    binarized_images[name[0]].append(binarized)"
   ]
  },
  {
   "cell_type": "code",
   "execution_count": 199,
   "metadata": {},
   "outputs": [],
   "source": [
    "binarized_padded_images = {}\n",
    "for letter in binarized_images:\n",
    "    images = binarized_images[letter]\n",
    "    padded_images = []\n",
    "    for img in images:\n",
    "        padded_images += generate_images(img, amount_per_pattern=1)\n",
    "    binarized_padded_images[letter] = padded_images"
   ]
  },
  {
   "cell_type": "code",
   "execution_count": 200,
   "metadata": {},
   "outputs": [],
   "source": [
    "for letter in binarized_padded_images:\n",
    "    images = binarized_padded_images[letter]\n",
    "    for i in range(len(images)):\n",
    "        np.save(f'dataset/{letter}_{i}.npy', images[i])"
   ]
  },
  {
   "cell_type": "code",
   "execution_count": null,
   "metadata": {},
   "outputs": [],
   "source": []
  }
 ],
 "metadata": {
  "kernelspec": {
   "display_name": "Python 3",
   "language": "python",
   "name": "python3"
  },
  "language_info": {
   "codemirror_mode": {
    "name": "ipython",
    "version": 3
   },
   "file_extension": ".py",
   "mimetype": "text/x-python",
   "name": "python",
   "nbconvert_exporter": "python",
   "pygments_lexer": "ipython3",
   "version": "3.7.2"
  }
 },
 "nbformat": 4,
 "nbformat_minor": 2
}
