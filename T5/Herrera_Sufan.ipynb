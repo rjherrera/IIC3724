{
 "cells": [
  {
   "cell_type": "markdown",
   "metadata": {},
   "source": [
    "# Tarea 5 - Clasificadores"
   ]
  },
  {
   "cell_type": "code",
   "execution_count": 1,
   "metadata": {},
   "outputs": [],
   "source": [
    "import numpy as np\n",
    "from os import listdir\n",
    "from sklearn.model_selection import cross_validate"
   ]
  },
  {
   "cell_type": "code",
   "execution_count": 2,
   "metadata": {},
   "outputs": [],
   "source": [
    "from pybalu.feature_extraction import lbp_features, hog_features\n",
    "from pybalu.feature_selection import clean, sfs\n",
    "from pybalu.feature_transformation import normalize\n",
    "from pybalu.io import imread"
   ]
  },
  {
   "cell_type": "markdown",
   "metadata": {},
   "source": [
    "Para todos los experimentos se realiza la obtención de la información de la misma manera"
   ]
  },
  {
   "cell_type": "code",
   "execution_count": 3,
   "metadata": {},
   "outputs": [],
   "source": [
    "label_dict = {'N': 0, 'P': 1}\n",
    "pedestrians_file_names = [i for i in listdir('pedestrians') if i.endswith('png')]\n",
    "y = np.array([label_dict[i[0]] for i in pedestrians_file_names])\n",
    "pedestrians_paths = [f'pedestrians/{i}' for i in pedestrians_file_names]"
   ]
  },
  {
   "cell_type": "markdown",
   "metadata": {},
   "source": [
    "Se utiliza `flatten = True` para tener las imagenes en escala de grises, dada las características del problema a clasificar, en el cual no afecta el color ya que puede ser incluso una falsa correlación, sino que por ejemplo la posición."
   ]
  },
  {
   "cell_type": "code",
   "execution_count": 4,
   "metadata": {},
   "outputs": [],
   "source": [
    "X = np.array([imread(i, flatten=True) for i in pedestrians_paths])"
   ]
  },
  {
   "cell_type": "markdown",
   "metadata": {},
   "source": [
    "Como no hay set de test y es un análisis sobre todo el set de entrenamiento, no se hace una división. Para ser consistente con la nomenclatura empleada durante todo el curso, igual llamaré `X_train` e `y_train` a los conjuntos de datos"
   ]
  },
  {
   "cell_type": "code",
   "execution_count": 5,
   "metadata": {},
   "outputs": [],
   "source": [
    "X_train = X\n",
    "y_train = y"
   ]
  },
  {
   "cell_type": "markdown",
   "metadata": {},
   "source": [
    "Se agrega la siguiente función para mostrar los resultados de manera amigable"
   ]
  },
  {
   "cell_type": "code",
   "execution_count": 6,
   "metadata": {},
   "outputs": [],
   "source": [
    "def scores(accuracies, precisions, recalls):\n",
    "    print('Avg scores:')\n",
    "    print(f'Accuracy: {np.mean(accuracies)}, Precision: {np.mean(precisions)}, Recall: {np.mean(recalls)}')\n",
    "    print('\\nStd scores:')\n",
    "    print(f'Accuracy: {np.std(accuracies)}, Precision: {np.std(precisions)}, Recall: {np.std(recalls)}')"
   ]
  },
  {
   "cell_type": "markdown",
   "metadata": {},
   "source": [
    "## Extracción"
   ]
  },
  {
   "cell_type": "markdown",
   "metadata": {},
   "source": [
    "Lo primero es extraer características, que serán comunes para los 3 clasificadores a realizar"
   ]
  },
  {
   "cell_type": "markdown",
   "metadata": {},
   "source": [
    "La estrategia es extraer LBP, con 3 divisiones tanto horizontales como verticales, y con un mapeo variante a rotación pero uniforme, lo que implica que se toma en consideración que pueden haber variaciones de brillo entre una imagen y otra.\n",
    "\n",
    "Además se extrae HOG, de modo de considerar las direcciones de los elementos en las imágenes, que puede ser útil considerando que los umanos suelen tener características corporeas similares a grandes rasgos. Se utiliza la misma división vertical y horizontal, y 8 bins, dado que se pretenden ver las 8 direcciones."
   ]
  },
  {
   "cell_type": "code",
   "execution_count": 7,
   "metadata": {},
   "outputs": [],
   "source": [
    "X_train_lbp = np.array([lbp_features(i, hdiv=3, vdiv=3, mapping='nri_uniform') for i in X_train])"
   ]
  },
  {
   "cell_type": "code",
   "execution_count": 8,
   "metadata": {},
   "outputs": [],
   "source": [
    "X_train_hog = np.array([hog_features(i, v_windows=3, h_windows=3, n_bins=8) for i in X_train])"
   ]
  },
  {
   "cell_type": "markdown",
   "metadata": {},
   "source": [
    "Se concatenan ambos conjuntos de características"
   ]
  },
  {
   "cell_type": "code",
   "execution_count": 9,
   "metadata": {},
   "outputs": [],
   "source": [
    "X_train_features = np.concatenate((X_train_lbp, X_train_hog), axis=1)"
   ]
  },
  {
   "cell_type": "markdown",
   "metadata": {},
   "source": [
    "Se realiza una limpieza de columnas que no entregan información utilizando clean"
   ]
  },
  {
   "cell_type": "code",
   "execution_count": 10,
   "metadata": {},
   "outputs": [],
   "source": [
    "X_train_clean_indexes = clean(X_train_features)\n",
    "X_train_clean = X_train_features[:, X_train_clean_indexes]"
   ]
  },
  {
   "cell_type": "markdown",
   "metadata": {},
   "source": [
    "Se normaliza pues algunos clasificadores esperan datos normalizados, como por ejemplo redes neuronales"
   ]
  },
  {
   "cell_type": "code",
   "execution_count": 11,
   "metadata": {},
   "outputs": [],
   "source": [
    "X_train_norm, norm_a, norm_b = normalize(X_train_clean)"
   ]
  },
  {
   "cell_type": "markdown",
   "metadata": {},
   "source": [
    "Se realiza una selección de 50 características con SFS"
   ]
  },
  {
   "cell_type": "code",
   "execution_count": 12,
   "metadata": {},
   "outputs": [
    {
     "name": "stderr",
     "output_type": "stream",
     "text": [
      "Selecting Features: 100%|██████████| 50.0/50.0 [00:14<00:00, 3.35 features/s]\n"
     ]
    }
   ],
   "source": [
    "N_FEATURES = 50\n",
    "X_train_sfs_indexes = sfs(X_train_norm, y_train, n_features=N_FEATURES, method=\"fisher\", show=True)"
   ]
  },
  {
   "cell_type": "code",
   "execution_count": 13,
   "metadata": {},
   "outputs": [],
   "source": [
    "X_train_sfs = X_train_norm[:, X_train_sfs_indexes]"
   ]
  },
  {
   "cell_type": "markdown",
   "metadata": {},
   "source": [
    "## Opción 1: LBP + HOG -> SFS -> KNN"
   ]
  },
  {
   "cell_type": "markdown",
   "metadata": {},
   "source": [
    "La primera opción como clasificador es usar KNN justo después de la selección, se utilizarán 2 vecinos."
   ]
  },
  {
   "cell_type": "code",
   "execution_count": 14,
   "metadata": {},
   "outputs": [],
   "source": [
    "from sklearn.neighbors import KNeighborsClassifier"
   ]
  },
  {
   "cell_type": "code",
   "execution_count": 15,
   "metadata": {},
   "outputs": [],
   "source": [
    "knn = KNeighborsClassifier(n_neighbors=2)"
   ]
  },
  {
   "cell_type": "markdown",
   "metadata": {},
   "source": [
    "Saco los puntajes con validación cruzada de 10 folds"
   ]
  },
  {
   "cell_type": "code",
   "execution_count": 16,
   "metadata": {},
   "outputs": [],
   "source": [
    "cross_val_scores = cross_validate(knn, X_train_sfs, y_train, cv=10, scoring=['accuracy', 'precision', 'recall'])"
   ]
  },
  {
   "cell_type": "code",
   "execution_count": 17,
   "metadata": {},
   "outputs": [],
   "source": [
    "cross_val_accuracies_knn = cross_val_scores['test_accuracy']\n",
    "cross_val_precisions_knn = cross_val_scores['test_precision']\n",
    "cross_val_recalls_knn = cross_val_scores['test_recall']"
   ]
  },
  {
   "cell_type": "markdown",
   "metadata": {},
   "source": [
    "Con el clasificador de KNN de 2 vecinos se obtienen los siguientes valores para cada métrica y su desviación"
   ]
  },
  {
   "cell_type": "code",
   "execution_count": 18,
   "metadata": {},
   "outputs": [
    {
     "name": "stdout",
     "output_type": "stream",
     "text": [
      "Avg scores:\n",
      "Accuracy: 0.9525, Precision: 0.9664302059496569, Recall: 0.9400000000000001\n",
      "\n",
      "Std scores:\n",
      "Accuracy: 0.020766559657295163, Precision: 0.04035354754335639, Recall: 0.02999999999999998\n"
     ]
    }
   ],
   "source": [
    "scores(cross_val_accuracies_knn, cross_val_precisions_knn, cross_val_recalls_knn)"
   ]
  },
  {
   "cell_type": "markdown",
   "metadata": {},
   "source": [
    "## Opción 2: LBP + HOG -> SFS -> SVM"
   ]
  },
  {
   "cell_type": "markdown",
   "metadata": {},
   "source": [
    "Como segunda opción se explorará utilizar un SVM en vez de un clasificador de vecinos cercanos. Para ello, no solo se verán los desempeños del clasificador con validación cruzada, sino que también se utilizará `GridSearchCV` para determinar los parámetros del clasificador. Con esto se usa la validación de manera de que ayuda para elegir los parámetros y no solo para ver los resultados y puntajes"
   ]
  },
  {
   "cell_type": "code",
   "execution_count": 19,
   "metadata": {},
   "outputs": [],
   "source": [
    "from sklearn.svm import SVC\n",
    "from sklearn.model_selection import GridSearchCV"
   ]
  },
  {
   "cell_type": "markdown",
   "metadata": {},
   "source": [
    "Al igual que en la tarea anterior, para los valores de $C$ y $\\gamma$ del SVM se recomienda utilizar potencias de 2 dentro de ciertos márgenes, basado en [este documento](https://www.csie.ntu.edu.tw/~cjlin/papers/guide/guide.pdf).\n",
    "\n",
    "La búsqueda entonces se hace sobre esos dominios, y con validación cruzada de 10 folds"
   ]
  },
  {
   "cell_type": "code",
   "execution_count": 20,
   "metadata": {},
   "outputs": [],
   "source": [
    "C_range = np.power(2, np.linspace(-3, 3, 7))\n",
    "gamma_range = np.power(2, np.linspace(-10, 1, 12))\n",
    "param_grid = dict(gamma=gamma_range, C=C_range)\n",
    "grid = GridSearchCV(SVC(), param_grid=param_grid, cv=10)"
   ]
  },
  {
   "cell_type": "code",
   "execution_count": 21,
   "metadata": {},
   "outputs": [],
   "source": [
    "grid.fit(X_train_sfs, y_train);"
   ]
  },
  {
   "cell_type": "code",
   "execution_count": 22,
   "metadata": {
    "scrolled": true
   },
   "outputs": [
    {
     "name": "stdout",
     "output_type": "stream",
     "text": [
      "Params: {'C': 0.5, 'gamma': 0.015625}, Accuracy: 0.9925\n"
     ]
    }
   ],
   "source": [
    "print(f'Params: {grid.best_params_}, Accuracy: {grid.best_score_}')"
   ]
  },
  {
   "cell_type": "markdown",
   "metadata": {},
   "source": [
    "Los parámetros que se obtienen son esos, y se utilizarán para obtener todos los puntajes"
   ]
  },
  {
   "cell_type": "code",
   "execution_count": 23,
   "metadata": {},
   "outputs": [],
   "source": [
    "svm = SVC(**grid.best_params_)\n",
    "cross_val_scores = cross_validate(svm, X_train_sfs, y_train, cv=10, scoring=['accuracy', 'precision', 'recall'])"
   ]
  },
  {
   "cell_type": "code",
   "execution_count": 24,
   "metadata": {},
   "outputs": [],
   "source": [
    "cross_val_accuracies_svm = cross_val_scores['test_accuracy']\n",
    "cross_val_precisions_svm = cross_val_scores['test_precision']\n",
    "cross_val_recalls_svm = cross_val_scores['test_recall']"
   ]
  },
  {
   "cell_type": "markdown",
   "metadata": {},
   "source": [
    "Para un SVM simple con valor de $C=0.5$ y $\\gamma=2^{-6}$, los resultados para cada métrica con sus desviaciones son los siguientes:"
   ]
  },
  {
   "cell_type": "code",
   "execution_count": 25,
   "metadata": {},
   "outputs": [
    {
     "name": "stdout",
     "output_type": "stream",
     "text": [
      "Avg scores:\n",
      "Accuracy: 0.9925, Precision: 0.9904761904761905, Recall: 0.9949999999999999\n",
      "\n",
      "Std scores:\n",
      "Accuracy: 0.01145643923738961, Precision: 0.019047619047619067, Recall: 0.015000000000000015\n"
     ]
    }
   ],
   "source": [
    "scores(cross_val_accuracies_svm, cross_val_precisions_svm, cross_val_recalls_svm)"
   ]
  },
  {
   "cell_type": "markdown",
   "metadata": {},
   "source": [
    "## Opción 3: LBP + HOG -> SFS -> MLP"
   ]
  },
  {
   "cell_type": "markdown",
   "metadata": {},
   "source": [
    "Nuevamente utilizando la misma extracción y selección se procede a clasificar, pero ahora con redes neuronales"
   ]
  },
  {
   "cell_type": "code",
   "execution_count": 26,
   "metadata": {},
   "outputs": [],
   "source": [
    "from sklearn.neural_network import MLPClassifier"
   ]
  },
  {
   "cell_type": "markdown",
   "metadata": {},
   "source": [
    "De modo similar a lo anterior, se procede a hacer una búsqueda con validación cruzada de los parámetros adecuados, se escogen de antemano ciertos parámetros que descartar, ya que probar todos es muy costoso computacionalmente."
   ]
  },
  {
   "cell_type": "code",
   "execution_count": 27,
   "metadata": {},
   "outputs": [],
   "source": [
    "parameters = {\n",
    "    'solver': ['lbfgs'],\n",
    "    'learning_rate': ['invscaling', 'adaptive'],\n",
    "    'activation': ['logistic', 'tanh', 'relu'],\n",
    "    'alpha': 10.0 ** -np.arange(1, 5),\n",
    "    'hidden_layer_sizes': [(5, 5), (10, 10), (15, 15)],\n",
    "}\n",
    "nn_grid = GridSearchCV(MLPClassifier(), parameters, n_jobs=-1, cv=10)"
   ]
  },
  {
   "cell_type": "code",
   "execution_count": 28,
   "metadata": {},
   "outputs": [],
   "source": [
    "nn_grid.fit(X_train_sfs, y_train);"
   ]
  },
  {
   "cell_type": "code",
   "execution_count": 29,
   "metadata": {},
   "outputs": [
    {
     "name": "stdout",
     "output_type": "stream",
     "text": [
      "Params: {'activation': 'tanh', 'alpha': 0.01, 'hidden_layer_sizes': (15, 15), 'learning_rate': 'adaptive', 'solver': 'lbfgs'}, Accuracy: 0.9925\n"
     ]
    }
   ],
   "source": [
    "print(f'Params: {nn_grid.best_params_}, Accuracy: {nn_grid.best_score_}')"
   ]
  },
  {
   "cell_type": "markdown",
   "metadata": {},
   "source": [
    "Como depende fuértemente del estado aleatorio inicial, los resultados varían, sin embargo eso se ve mitigado por sacar un promedio de los resultados.\n",
    "\n",
    "Al igual que en los experimentos anteriores, se procede a obtener los puntajes con este clasificador y los mejores parámetros encontrados."
   ]
  },
  {
   "cell_type": "code",
   "execution_count": 46,
   "metadata": {},
   "outputs": [],
   "source": [
    "nn = MLPClassifier(**nn_grid.best_params_)"
   ]
  },
  {
   "cell_type": "code",
   "execution_count": 47,
   "metadata": {},
   "outputs": [],
   "source": [
    "cross_val_scores = cross_validate(nn, X_train_sfs, y_train, cv=10, scoring=['accuracy', 'precision', 'recall'])"
   ]
  },
  {
   "cell_type": "code",
   "execution_count": 48,
   "metadata": {},
   "outputs": [],
   "source": [
    "cross_val_accuracies_nn = cross_val_scores['test_accuracy']\n",
    "cross_val_precisions_nn = cross_val_scores['test_precision']\n",
    "cross_val_recalls_nn = cross_val_scores['test_recall']"
   ]
  },
  {
   "cell_type": "markdown",
   "metadata": {},
   "source": [
    "Finalmente, con una red neuronal simple como clasificador, se obtienen puntajes cercanos al 100%. Los resultados son los siguientes:"
   ]
  },
  {
   "cell_type": "code",
   "execution_count": 49,
   "metadata": {},
   "outputs": [
    {
     "name": "stdout",
     "output_type": "stream",
     "text": [
      "Avg scores:\n",
      "Accuracy: 0.9924999999999999, Precision: 0.9952380952380953, Recall: 0.9899999999999999\n",
      "\n",
      "Std scores:\n",
      "Accuracy: 0.01145643923738961, Precision: 0.014285714285714303, Recall: 0.020000000000000018\n"
     ]
    }
   ],
   "source": [
    "scores(cross_val_accuracies_nn, cross_val_precisions_nn, cross_val_recalls_nn)"
   ]
  },
  {
   "cell_type": "markdown",
   "metadata": {},
   "source": [
    "## Gráficos comparativos de los rendimientos"
   ]
  },
  {
   "cell_type": "code",
   "execution_count": 50,
   "metadata": {},
   "outputs": [],
   "source": [
    "import matplotlib.pyplot as plt"
   ]
  },
  {
   "cell_type": "code",
   "execution_count": 51,
   "metadata": {},
   "outputs": [
    {
     "data": {
      "image/png": "[encoded data removed]",
      "text/plain": [
       "<Figure size 216x216 with 1 Axes>"
      ]
     },
     "metadata": {
      "needs_background": "light"
     },
     "output_type": "display_data"
    }
   ],
   "source": [
    "model = ['KNN', 'SVM', 'NN']\n",
    "score = [cross_val_accuracies_knn.mean(), cross_val_accuracies_svm.mean(), cross_val_accuracies_nn.mean()]\n",
    "err = [cross_val_accuracies_knn.std(), cross_val_accuracies_svm.std(), cross_val_accuracies_nn.std()]\n",
    "fig = plt.figure(figsize=(3, 3))\n",
    "plt.title('Accuracies')\n",
    "plt.xlabel('Classifier')\n",
    "plt.ylabel('Score')\n",
    "plt.errorbar(model, score, yerr=err, fmt='none', color='green')\n",
    "plt.scatter(model, score, marker='_', s=200)\n",
    "plt.show()"
   ]
  },
  {
   "cell_type": "code",
   "execution_count": 52,
   "metadata": {},
   "outputs": [
    {
     "data": {
      "image/png": "[encoded data removed]",
      "text/plain": [
       "<Figure size 216x216 with 1 Axes>"
      ]
     },
     "metadata": {
      "needs_background": "light"
     },
     "output_type": "display_data"
    }
   ],
   "source": [
    "score = [cross_val_precisions_knn.mean(), cross_val_precisions_svm.mean(), cross_val_precisions_nn.mean()]\n",
    "err = [cross_val_precisions_knn.std(), cross_val_precisions_svm.std(), cross_val_precisions_nn.std()]\n",
    "fig = plt.figure(figsize=(3, 3))\n",
    "plt.title('Precisions')\n",
    "plt.xlabel('Classifier')\n",
    "plt.ylabel('Score')\n",
    "plt.errorbar(model, score, yerr=err, fmt='none', color='orange', barsabove=False)\n",
    "plt.scatter(model, score, marker='_', s=200)\n",
    "plt.show()"
   ]
  },
  {
   "cell_type": "code",
   "execution_count": 53,
   "metadata": {},
   "outputs": [
    {
     "data": {
      "image/png": "[encoded data removed]",
      "text/plain": [
       "<Figure size 216x216 with 1 Axes>"
      ]
     },
     "metadata": {
      "needs_background": "light"
     },
     "output_type": "display_data"
    }
   ],
   "source": [
    "score = [cross_val_recalls_knn.mean(), cross_val_recalls_svm.mean(), cross_val_recalls_nn.mean()]\n",
    "err = [cross_val_recalls_knn.std(), cross_val_recalls_svm.std(), cross_val_recalls_nn.std()]\n",
    "fig = plt.figure(figsize=(3, 3))\n",
    "plt.title('Recalls')\n",
    "plt.xlabel('Classifier')\n",
    "plt.ylabel('Score')\n",
    "plt.errorbar(model, score, yerr=err, fmt='none', color='red')\n",
    "plt.scatter(model, score, marker='_', s=200)\n",
    "plt.show()"
   ]
  },
  {
   "cell_type": "code",
   "execution_count": null,
   "metadata": {},
   "outputs": [],
   "source": []
  }
 ],
 "metadata": {
  "kernelspec": {
   "display_name": "Python 3",
   "language": "python",
   "name": "python3"
  },
  "language_info": {
   "codemirror_mode": {
    "name": "ipython",
    "version": 3
   },
   "file_extension": ".py",
   "mimetype": "text/x-python",
   "name": "python",
   "nbconvert_exporter": "python",
   "pygments_lexer": "ipython3",
   "version": "3.7.2"
  }
 },
 "nbformat": 4,
 "nbformat_minor": 2
}
