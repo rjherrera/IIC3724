{
 "cells": [
  {
   "cell_type": "markdown",
   "metadata": {},
   "source": [
    "# Selección de características con SFS"
   ]
  },
  {
   "cell_type": "markdown",
   "metadata": {},
   "source": [
    "### Parte 1"
   ]
  },
  {
   "cell_type": "code",
   "execution_count": 1,
   "metadata": {},
   "outputs": [],
   "source": [
    "import numpy as np\n",
    "from sklearn.neighbors import KNeighborsClassifier\n",
    "import scipy.io"
   ]
  },
  {
   "cell_type": "code",
   "execution_count": 2,
   "metadata": {},
   "outputs": [],
   "source": [
    "data = scipy.io.loadmat('DATOS1.mat')"
   ]
  },
  {
   "cell_type": "code",
   "execution_count": 3,
   "metadata": {},
   "outputs": [],
   "source": [
    "Xtest = data['Xtest']\n",
    "Ytest = data['Ytest']\n",
    "Xtrain = data['Xtrain']\n",
    "Ytrain = data['Ytrain']"
   ]
  },
  {
   "cell_type": "code",
   "execution_count": 4,
   "metadata": {},
   "outputs": [],
   "source": [
    "neighbors = KNeighborsClassifier(n_neighbors=1)"
   ]
  },
  {
   "cell_type": "code",
   "execution_count": 5,
   "metadata": {},
   "outputs": [
    {
     "data": {
      "text/plain": [
       "KNeighborsClassifier(algorithm='auto', leaf_size=30, metric='minkowski',\n",
       "           metric_params=None, n_jobs=None, n_neighbors=1, p=2,\n",
       "           weights='uniform')"
      ]
     },
     "execution_count": 5,
     "metadata": {},
     "output_type": "execute_result"
    }
   ],
   "source": [
    "neighbors.fit(Xtrain, Ytrain.flatten())"
   ]
  },
  {
   "cell_type": "code",
   "execution_count": 6,
   "metadata": {},
   "outputs": [],
   "source": [
    "Ypred = neighbors.predict(Xtest)"
   ]
  },
  {
   "cell_type": "code",
   "execution_count": 7,
   "metadata": {},
   "outputs": [],
   "source": [
    "correct = (Ypred == Ytest.flatten()).astype(int).sum()"
   ]
  },
  {
   "cell_type": "code",
   "execution_count": 8,
   "metadata": {},
   "outputs": [],
   "source": [
    "accuracy = correct / Ytest.size * 100"
   ]
  },
  {
   "cell_type": "code",
   "execution_count": 9,
   "metadata": {},
   "outputs": [
    {
     "data": {
      "text/plain": [
       "91.86046511627907"
      ]
     },
     "execution_count": 9,
     "metadata": {},
     "output_type": "execute_result"
    }
   ],
   "source": [
    "accuracy"
   ]
  },
  {
   "cell_type": "markdown",
   "metadata": {},
   "source": [
    "### Parte 2"
   ]
  },
  {
   "cell_type": "code",
   "execution_count": 10,
   "metadata": {},
   "outputs": [],
   "source": [
    "from pybalu.feature_selection import sfs"
   ]
  },
  {
   "cell_type": "code",
   "execution_count": 11,
   "metadata": {},
   "outputs": [],
   "source": [
    "datos2 = scipy.io.loadmat('DATOS2.mat')\n",
    "X = datos2['X']\n",
    "Y = datos2['Y']"
   ]
  },
  {
   "cell_type": "code",
   "execution_count": 12,
   "metadata": {},
   "outputs": [],
   "source": [
    "N_FEATURES = 15"
   ]
  },
  {
   "cell_type": "code",
   "execution_count": 13,
   "metadata": {},
   "outputs": [
    {
     "name": "stderr",
     "output_type": "stream",
     "text": [
      "Selecting Features: 100%|██████████| 15.0/15.0 [00:01<00:00, 10.0 features/s]\n"
     ]
    }
   ],
   "source": [
    "selected_feats = sfs(X, Y, n_features=N_FEATURES, method=\"fisher\", show=True)"
   ]
  },
  {
   "cell_type": "code",
   "execution_count": 14,
   "metadata": {},
   "outputs": [
    {
     "data": {
      "text/plain": [
       "array([225, 298, 295, 296, 294, 297,  88, 277,  97,  67, 279, 201,  83,\n",
       "       227, 230])"
      ]
     },
     "execution_count": 14,
     "metadata": {},
     "output_type": "execute_result"
    }
   ],
   "source": [
    "selected_feats"
   ]
  },
  {
   "cell_type": "code",
   "execution_count": 15,
   "metadata": {},
   "outputs": [],
   "source": [
    "Xtrain_new = Xtrain[:, selected_feats]\n",
    "Xtest_new = Xtest[:, selected_feats]"
   ]
  },
  {
   "cell_type": "code",
   "execution_count": 16,
   "metadata": {},
   "outputs": [
    {
     "data": {
      "text/plain": [
       "KNeighborsClassifier(algorithm='auto', leaf_size=30, metric='minkowski',\n",
       "           metric_params=None, n_jobs=None, n_neighbors=1, p=2,\n",
       "           weights='uniform')"
      ]
     },
     "execution_count": 16,
     "metadata": {},
     "output_type": "execute_result"
    }
   ],
   "source": [
    "neighbors_new = KNeighborsClassifier(n_neighbors=1)\n",
    "neighbors_new.fit(Xtrain_new, Ytrain.flatten())"
   ]
  },
  {
   "cell_type": "code",
   "execution_count": 17,
   "metadata": {},
   "outputs": [],
   "source": [
    "Ypred_new = neighbors_new.predict(Xtest_new)"
   ]
  },
  {
   "cell_type": "code",
   "execution_count": 18,
   "metadata": {
    "scrolled": true
   },
   "outputs": [
    {
     "data": {
      "text/plain": [
       "95.34883720930233"
      ]
     },
     "execution_count": 18,
     "metadata": {},
     "output_type": "execute_result"
    }
   ],
   "source": [
    "correct = (Ypred_new == Ytest.flatten()).astype(int).sum()\n",
    "accuracy = correct / Ytest.size * 100\n",
    "accuracy"
   ]
  },
  {
   "cell_type": "markdown",
   "metadata": {},
   "source": [
    "# Extracción de características geométricas con Balu"
   ]
  },
  {
   "cell_type": "code",
   "execution_count": 19,
   "metadata": {},
   "outputs": [],
   "source": [
    "import matplotlib.pyplot as plt\n",
    "from pybalu.feature_extraction import fourier_des_features, hugeo_features, flusser_features\n",
    "from pybalu.io import imread\n",
    "from pybalu.io import print_features\n",
    "from os import listdir"
   ]
  },
  {
   "cell_type": "code",
   "execution_count": 20,
   "metadata": {},
   "outputs": [],
   "source": [
    "arrows_training_names = [i for i in listdir('arrows_training') if i.endswith('png')]\n",
    "arrows_testing_names = [i for i in listdir('arrows_testing') if i.endswith('png')]"
   ]
  },
  {
   "cell_type": "code",
   "execution_count": 21,
   "metadata": {},
   "outputs": [],
   "source": [
    "arrows_training = [imread(f'arrows_training/{i}') for i in arrows_training_names]\n",
    "arrows_testing = [imread(f'arrows_testing/{i}') for i in arrows_testing_names]"
   ]
  },
  {
   "cell_type": "code",
   "execution_count": 22,
   "metadata": {},
   "outputs": [],
   "source": [
    "y_training = np.array([int(i[5:7]) for i in arrows_training_names])\n",
    "y_testing = np.array([int(i[5:7]) for i in arrows_testing_names])"
   ]
  },
  {
   "cell_type": "markdown",
   "metadata": {},
   "source": [
    "Cargamos las imagenes en los arrows_testing y arrows_training con su respectivo nombre, y pasamos el label entero de forma que 1 es unidireccional curva, y así."
   ]
  },
  {
   "cell_type": "code",
   "execution_count": 23,
   "metadata": {},
   "outputs": [
    {
     "data": {
      "image/png": "[encoded data removed]",
      "text/plain": [
       "<Figure size 432x288 with 1 Axes>"
      ]
     },
     "metadata": {
      "needs_background": "light"
     },
     "output_type": "display_data"
    }
   ],
   "source": [
    "# example showing image\n",
    "plt.title(\"Original Arrow\")\n",
    "plt.imshow(arrows_training[0], cmap=\"gray\")\n",
    "plt.show()"
   ]
  },
  {
   "cell_type": "code",
   "execution_count": 24,
   "metadata": {
    "scrolled": true
   },
   "outputs": [
    {
     "name": "stdout",
     "output_type": "stream",
     "text": [
      "Fourier-des  1:  0.01245\n",
      "Fourier-des  2:  0.97540\n",
      "Fourier-des  3:  0.01619\n",
      "Fourier-des  4:  0.36507\n",
      "Fourier-des  5:  0.01059\n",
      "Fourier-des  6:  0.00718\n",
      "Fourier-des  7:  0.03498\n",
      "Fourier-des  8:  0.68532\n",
      "Fourier-des  9:  0.02455\n",
      "Fourier-des 10:  0.07124\n",
      "Fourier-des 11:  0.00605\n",
      "Fourier-des 12:  0.24709\n",
      "Fourier-des 13:  0.04633\n",
      "Fourier-des 14:  0.32950\n",
      "Fourier-des 15:  0.01488\n",
      "Fourier-des 16:  0.12151\n"
     ]
    }
   ],
   "source": [
    "# example geo extraction\n",
    "im_bin = (arrows_training[0] > 140).astype(int)\n",
    "labels, features = fourier_des_features(im_bin, labels=True)\n",
    "print_features(labels, features)"
   ]
  },
  {
   "cell_type": "markdown",
   "metadata": {},
   "source": [
    "Creamos ahora nuestra función para extraer todas las características, que son las geométricas, los momentos de Hu, los momentos de Flusser y los concatenamos en un solo vector para cada imagen"
   ]
  },
  {
   "cell_type": "code",
   "execution_count": 25,
   "metadata": {},
   "outputs": [],
   "source": [
    "def feature_extraction(im_bin):\n",
    "    descriptors = fourier_des_features(im_bin)\n",
    "    hu = hugeo_features(im_bin)\n",
    "    flusser = flusser_features(im_bin)\n",
    "    return np.hstack((descriptors, hu, flusser))"
   ]
  },
  {
   "cell_type": "markdown",
   "metadata": {},
   "source": [
    "Ejecutamos esta función para cada imagen de entrenamiento luego de binarizarla, y aplicamos el mismo procedimiento para el set de training y de testing"
   ]
  },
  {
   "cell_type": "code",
   "execution_count": 26,
   "metadata": {},
   "outputs": [],
   "source": [
    "binarized_arrows_training = [(i > 140).astype(int) for i in arrows_training]\n",
    "arrows_training_features = np.array([feature_extraction(i) for i in binarized_arrows_training])"
   ]
  },
  {
   "cell_type": "code",
   "execution_count": 27,
   "metadata": {},
   "outputs": [],
   "source": [
    "binarized_arrows_testing = [(i > 140).astype(int) for i in arrows_testing]\n",
    "arrows_testing_features = np.array([feature_extraction(i) for i in binarized_arrows_testing])"
   ]
  },
  {
   "cell_type": "markdown",
   "metadata": {},
   "source": [
    "Seleccionamos las mejores features con SFS (probamos con muchas opciones 1, 2, 3, 5, 10, 20 y 27) y resultó ser que con bajo 5 daba peor rendimiento pero en 5 ya daba 100% y de ahí en más no era necesario seguir."
   ]
  },
  {
   "cell_type": "code",
   "execution_count": 28,
   "metadata": {},
   "outputs": [
    {
     "name": "stderr",
     "output_type": "stream",
     "text": [
      "Selecting Features: 100%|██████████| 5.00/5.00 [00:00<00:00, 96.2 features/s]\n"
     ]
    }
   ],
   "source": [
    "N_FEATURES = 5\n",
    "selected_feats = sfs(arrows_training_features, y_training, n_features=N_FEATURES, method=\"fisher\", show=True)"
   ]
  },
  {
   "cell_type": "code",
   "execution_count": 29,
   "metadata": {},
   "outputs": [],
   "source": [
    "arrows_training_features_new = arrows_training_features[:, selected_feats]\n",
    "arrows_testing_features_new = arrows_testing_features[:, selected_feats]"
   ]
  },
  {
   "cell_type": "markdown",
   "metadata": {},
   "source": [
    "Utilizamos un clasificador de KNN"
   ]
  },
  {
   "cell_type": "code",
   "execution_count": 30,
   "metadata": {},
   "outputs": [
    {
     "data": {
      "text/plain": [
       "KNeighborsClassifier(algorithm='auto', leaf_size=30, metric='minkowski',\n",
       "           metric_params=None, n_jobs=None, n_neighbors=1, p=2,\n",
       "           weights='uniform')"
      ]
     },
     "execution_count": 30,
     "metadata": {},
     "output_type": "execute_result"
    }
   ],
   "source": [
    "neighbors_arrows = KNeighborsClassifier(n_neighbors=1)\n",
    "neighbors_arrows.fit(arrows_training_features_new, y_training)"
   ]
  },
  {
   "cell_type": "code",
   "execution_count": 31,
   "metadata": {},
   "outputs": [],
   "source": [
    "Ypred_arrows_new = neighbors_arrows.predict(arrows_testing_features_new)"
   ]
  },
  {
   "cell_type": "code",
   "execution_count": 32,
   "metadata": {},
   "outputs": [
    {
     "data": {
      "text/plain": [
       "100.0"
      ]
     },
     "execution_count": 32,
     "metadata": {},
     "output_type": "execute_result"
    }
   ],
   "source": [
    "correct = (Ypred_arrows_new == y_testing).astype(int).sum()\n",
    "accuracy = correct / y_testing.size * 100\n",
    "accuracy"
   ]
  },
  {
   "cell_type": "markdown",
   "metadata": {},
   "source": [
    "Dado la naturaleza de los datos, y lo simple del experimento, se ve que son necesarias pocas features para obtener un 100%. Es importante notar que esto se debe a lo acotado del problema y no a que nuestro algoritmo sea perfecto, dado que probablemente con otras instancias de testing ya no sea tan robusto."
   ]
  }
 ],
 "metadata": {
  "kernelspec": {
   "display_name": "Python 3",
   "language": "python",
   "name": "python3"
  },
  "language_info": {
   "codemirror_mode": {
    "name": "ipython",
    "version": 3
   },
   "file_extension": ".py",
   "mimetype": "text/x-python",
   "name": "python",
   "nbconvert_exporter": "python",
   "pygments_lexer": "ipython3",
   "version": "3.7.2"
  }
 },
 "nbformat": 4,
 "nbformat_minor": 2
}
